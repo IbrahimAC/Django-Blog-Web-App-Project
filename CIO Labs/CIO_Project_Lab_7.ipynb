{
  "nbformat": 4,
  "nbformat_minor": 0,
  "metadata": {
    "colab": {
      "name": "CIO_Project Lab 7",
      "provenance": []
    },
    "kernelspec": {
      "name": "python3",
      "display_name": "Python 3"
    },
    "language_info": {
      "name": "python"
    }
  },
  "cells": [
    {
      "cell_type": "markdown",
      "metadata": {
        "id": "7zxJYqlfyUoJ"
      },
      "source": [
        "# Lab 7"
      ]
    },
    {
      "cell_type": "markdown",
      "metadata": {
        "id": "zEFwP2f0ygom"
      },
      "source": [
        "**Objective:** In this lab we will be creating a register user page that allows users to make an account and signin using that account in order to make post's. \n",
        "\n",
        "**Current Problem:** Currently our register endpoint leads to no where. There is no frontend or backend logic for it currently. This is important to create since we need users to be able to register an account to make post's. \n",
        "\n",
        "**Solution:** We will be creating another app called Users which will house all of our frontend and backend for the register and login pages. The workflow will be very similar to the previous labs. "
      ]
    },
    {
      "cell_type": "markdown",
      "metadata": {
        "id": "I65HHlqHzlRv"
      },
      "source": [
        "## Step 1 Create App "
      ]
    },
    {
      "cell_type": "markdown",
      "metadata": {
        "id": "WoCkghVozpgi"
      },
      "source": [
        "**Overview:** Similar to our blog app we will create a new app which will house all of our register and login content. We will also link it to our django INSTALLED_APPS. \n",
        "\n",
        "**A)** To start up a new app write the following in the console. "
      ]
    },
    {
      "cell_type": "code",
      "metadata": {
        "id": "ZHJvia29z8KN"
      },
      "source": [
        "python manage.py startapp users"
      ],
      "execution_count": null,
      "outputs": []
    },
    {
      "cell_type": "markdown",
      "metadata": {
        "id": "hjqPPkdw0ESr"
      },
      "source": [
        "**A)** Check that it has been created. \n",
        "\n",
        "**B)** We now need to add it to our installed apps list found in settings.py. Does anyone remember how to add it to this area? What information is needed? \n",
        "\n",
        "**B)** Add the following code into INSTALLED_APPS"
      ]
    },
    {
      "cell_type": "code",
      "metadata": {
        "id": "6z49RjBr0f5k"
      },
      "source": [
        "'users.apps.UsersConfig',"
      ],
      "execution_count": null,
      "outputs": []
    },
    {
      "cell_type": "markdown",
      "metadata": {
        "id": "aSTPUeZr0tKm"
      },
      "source": [
        "## Step 2 Views"
      ]
    },
    {
      "cell_type": "markdown",
      "metadata": {
        "id": "QNqaYQ6G0vsf"
      },
      "source": [
        "**Overview:** Now we need to create the user form. Before doing that we must route it in our views page. Luckily Django handles alot of the form functionality for us. We will be creating our own from scratch later down the line but for now we will use the django built in form module. The inbuilt registration form ensures that: \n",
        "\n",
        "Valid email has been used \n",
        "The hashed passwords match \n",
        "\n",
        "\n",
        "**A)** Lets import the django form. Use your brain as to where this code needs to go. Its in the step name. "
      ]
    },
    {
      "cell_type": "code",
      "metadata": {
        "id": "4yiNbWgi16M5"
      },
      "source": [
        "from django.shortcuts. import render \n",
        "from django.contrib.auth.forms import UserCreationForm\n",
        "\n",
        "def register(request): \n",
        "  form = UserCreationForm()\n",
        "  return render(request, 'users/register.html', {'form':form})"
      ],
      "execution_count": null,
      "outputs": []
    },
    {
      "cell_type": "markdown",
      "metadata": {
        "id": "UYy7AHBk2lD7"
      },
      "source": [
        "**B)** Based on this code what do you think our next step will be? "
      ]
    },
    {
      "cell_type": "markdown",
      "metadata": {
        "id": "UJe0M1H823Y_"
      },
      "source": [
        "## Step 3 Views pt 2 "
      ]
    },
    {
      "cell_type": "markdown",
      "metadata": {
        "id": "ALbq2xDH27yq"
      },
      "source": [
        "**Overview:** Now we will be creating our register form page frontend. \n",
        "\n",
        "**A)** Copy and paste the following code into the appropriate directory that you previously created. "
      ]
    },
    {
      "cell_type": "code",
      "metadata": {
        "id": "ivFpsjzZ3J4h"
      },
      "source": [
        "{% extends \"blog/base.html\" %}\n",
        "{% block content %}\n",
        "    <div class=\"content-section\">\n",
        "        <form method=\"POST\">\n",
        "            {% csrf_token %} #Used for security. Will talk about later. \n",
        "            <fieldset class=\"form-group\">\n",
        "                <legend class=\"border-bottom mb-4\">Join Today</legend>\n",
        "                {{ form.as_p }}\n",
        "            </fieldset>\n",
        "            <div class=\"form-group\">\n",
        "                <button class=\"btn btn-outline-info\" type=\"submit\">Sign Up</button>\n",
        "            </div>\n",
        "        </form>\n",
        "        <div class=\"border-top pt-3\">\n",
        "            <small class=\"text-muted\">\n",
        "                Already Have An Account? <a class=\"ml-2\" href=\"#\">Sign In</a>\n",
        "            </small>\n",
        "        </div>\n",
        "    </div>\n",
        "{% endblock content %}"
      ],
      "execution_count": null,
      "outputs": []
    },
    {
      "cell_type": "markdown",
      "metadata": {
        "id": "1C1M_5Et3Unx"
      },
      "source": [
        "**B)** What is going on in this code? Have a look what can you observe? Take notes as to which parts you do not recognise. "
      ]
    },
    {
      "cell_type": "markdown",
      "metadata": {
        "id": "U5lY1ugl9L2N"
      },
      "source": [
        "## Step 4 Route"
      ]
    },
    {
      "cell_type": "markdown",
      "metadata": {
        "id": "r1Rm-Xiq9N84"
      },
      "source": [
        "**Overview:** Now we need to route our page. Currently we have handled what will happen when the endpoint is requested. But we haven't actually handled the endpoint itself. Meaning there is no URL pattern for it. We will fix this now. \n",
        "\n",
        "**A)** Inside the urls.py file insert the following. "
      ]
    },
    {
      "cell_type": "code",
      "metadata": {
        "id": "RNQ_WLVB9jPL"
      },
      "source": [
        "from users import views as user_views\n",
        "\n",
        "path('register/', user_views.register, name='register'), #Add this inside the list"
      ],
      "execution_count": null,
      "outputs": []
    },
    {
      "cell_type": "markdown",
      "metadata": {
        "id": "ZJDA9-Oo-J36"
      },
      "source": [
        "**A)** Now lets check if it works. What do you notice? "
      ]
    },
    {
      "cell_type": "markdown",
      "metadata": {
        "id": "IPhIyBmj-sC4"
      },
      "source": [
        "This is the end of the lab. It was short, sweet and laid the foundations of the upcoming labs. "
      ]
    }
  ]
}