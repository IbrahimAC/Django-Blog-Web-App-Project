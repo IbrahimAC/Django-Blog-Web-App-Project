{
  "nbformat": 4,
  "nbformat_minor": 0,
  "metadata": {
    "colab": {
      "name": "CIO_Project Lab 3 ",
      "provenance": []
    },
    "kernelspec": {
      "name": "python3",
      "display_name": "Python 3"
    },
    "language_info": {
      "name": "python"
    }
  },
  "cells": [
    {
      "cell_type": "markdown",
      "metadata": {
        "id": "T3z5_En8dAB4"
      },
      "source": [
        "# LAB 3 "
      ]
    },
    {
      "cell_type": "markdown",
      "metadata": {
        "id": "SVkc9aJ9dCT2"
      },
      "source": [
        "**Objective:** In this lab we will be looking to create a base HTML template which will be inherited by all child HTML pages. We will also be using bootstrap as quick way to style our HTML pages. \n",
        "\n",
        "**Current problem:** As it stands our HTML pages have a lot of repeated code. If we look at them currently, the only code which they differ on is the title. So why is this a problem? If we wanted to change or add a piece of code which will apply to all HTML pages we will have to go to all our HTML pages one by one and do so. This may not be a problem now when we only have 2 pages; but what about when we have 10 or 20? This becomes a huge maintenance issue and could potentially cause a lot of errors down the line. \n",
        "\n",
        "**Solution:** To fix the problem of repeated code we can create one base HTML file which will house the code that is not unique to the each HTML page. This HTML file will be inherited to all other files allowing for clean uniformity and for easy updates and changes. We will also be using Bootstrap for quick styling of our pages. "
      ]
    },
    {
      "cell_type": "markdown",
      "metadata": {
        "id": "nUesoUJMiEBr"
      },
      "source": [
        "## Step 1 Complete the About page"
      ]
    },
    {
      "cell_type": "markdown",
      "metadata": {
        "id": "qVChWgyAiHc6"
      },
      "source": [
        "**A)** Similarly to how to done the home page, complete the about page and test it. "
      ]
    },
    {
      "cell_type": "markdown",
      "metadata": {
        "id": "F13XrltIhOAv"
      },
      "source": [
        "## Step 2 Create and Inspect "
      ]
    },
    {
      "cell_type": "markdown",
      "metadata": {
        "id": "pgiBYSkHhkXs"
      },
      "source": [
        "**A)** In the Templates/blog directory add a base.html file. This will be where our base template is stored. \n",
        "\n",
        "**B)** Copy the HTML code from your home.html into your base.html file. \n",
        "\n",
        "**C)** Now inspect home.html and about.html. Which code is different and which is the same/repeated? "
      ]
    },
    {
      "cell_type": "markdown",
      "metadata": {
        "id": "ytotwWQ0iudb"
      },
      "source": [
        "## Step 3 Django template lang & Code block "
      ]
    },
    {
      "cell_type": "markdown",
      "metadata": {
        "id": "92q84Dvqi2_u"
      },
      "source": [
        "**A)** Once you find the lines which are unique to each page, delete them from the base.html page. \n",
        "\n",
        "**B)** Replace it will this code. "
      ]
    },
    {
      "cell_type": "code",
      "metadata": {
        "id": "-H9xR7uGjCYN"
      },
      "source": [
        "{%block content %}{% endblock %}\n",
        "\n",
        "#Block is a section which child templates can override. \n",
        "#Steps: All HTML files inherit the base.html template -> Block content found -> Replace the block content with the conent in the child HTML file eg. about.html  "
      ],
      "execution_count": null,
      "outputs": []
    },
    {
      "cell_type": "markdown",
      "metadata": {
        "id": "CuIAzDZsjr1o"
      },
      "source": [
        "**C)** Now go into your home.html and about.html files and remove anything which is NOT currently in the base.html file. "
      ]
    },
    {
      "cell_type": "markdown",
      "metadata": {
        "id": "x2hoW0rykbKG"
      },
      "source": [
        "*Note: At this point you are probably asking: How can we write code like this in a HTML page? This looks nothing like the HTML I have seen so far? Check the link below for more information about embedding none-markup code into our HTML page eg. loops.*\n",
        "\n",
        "https://docs.djangoproject.com/en/3.2/ref/templates/language/\n",
        "\n",
        "**Make sure you understand this since we will be using it a lot later.** "
      ]
    },
    {
      "cell_type": "markdown",
      "metadata": {
        "id": "73PVZxoBj4C5"
      },
      "source": [
        "## Step 4 Inherit Base"
      ]
    },
    {
      "cell_type": "markdown",
      "metadata": {
        "id": "d8yRU31xj665"
      },
      "source": [
        "**Overview:** Now its time for our child HTML pages (home, about) to inherit the base.html template."
      ]
    },
    {
      "cell_type": "markdown",
      "metadata": {
        "id": "SznAOEwmkDPk"
      },
      "source": [
        "**A)** Go into each child HTML page and insert the following code at the top of the page. "
      ]
    },
    {
      "cell_type": "code",
      "metadata": {
        "id": "zhPPYCqFkO3T"
      },
      "source": [
        "{% extends \"blog/base.html\" %}"
      ],
      "execution_count": null,
      "outputs": []
    },
    {
      "cell_type": "markdown",
      "metadata": {
        "id": "g3nVKGzjlqOf"
      },
      "source": [
        "## Step 5 Override the content"
      ]
    },
    {
      "cell_type": "markdown",
      "metadata": {
        "id": "rXrlIQSZlsiK"
      },
      "source": [
        "**Overview**: Now that we have extended our base.html template to be used with our child templates we now need to write some code to allow the child templates to interact with the block contents found in the base.html file. \n",
        "\n",
        "**Question**: What does the block content allow for? "
      ]
    },
    {
      "cell_type": "markdown",
      "metadata": {
        "id": "nhfa8pkzl-gd"
      },
      "source": [
        "**A)** Go into the child HTML pages. Below the \"extends\" line write the following code. "
      ]
    },
    {
      "cell_type": "markdown",
      "metadata": {
        "id": "uO-E0oE1mKuZ"
      },
      "source": [
        "{% block content %}"
      ]
    },
    {
      "cell_type": "markdown",
      "metadata": {
        "id": "v5qHq_MdmPTi"
      },
      "source": [
        "**B)** Now indent all the unqiue content into that block. \n",
        "\n",
        "**C)** Close the content block with {% endblock content %} (as thought you are closing a loop. \n",
        "\n",
        "**D)** Testing that all pages are working correctly."
      ]
    },
    {
      "cell_type": "markdown",
      "metadata": {
        "id": "6d2jKy9-mumu"
      },
      "source": [
        "## Step 5 Bootstrap "
      ]
    },
    {
      "cell_type": "markdown",
      "metadata": {
        "id": "J-3tVVXinN8a"
      },
      "source": [
        "**Overview:** Currently our frontend is looking quite poor. Using more HTML and CSS code we could make it look alot better, however that would be abit of a waste of time. Boostrap allows us to make our site alot more visually pleasing with very minimal effort on our part. \n",
        "\n",
        "For more information check the link below: \n",
        "\n",
        "https://www.toptal.com/front-end/what-is-bootstrap-a-short-tutorial-on-the-what-why-and-how \n",
        "\n",
        "**SCROLL ALL THE WAY DOWN IN THE WEBPAGE TO THE CONCLUSION SECTION FOR THE TLDR** "
      ]
    },
    {
      "cell_type": "markdown",
      "metadata": {
        "id": "eBNAKHY2n9jH"
      },
      "source": [
        "*Note: We can now make our whole site use bootstrap without having to update all of the HTML pages one by one. This is the power of template inheritence!!!* "
      ]
    },
    {
      "cell_type": "markdown",
      "metadata": {
        "id": "izWbkPb_od1R"
      },
      "source": [
        "**A)** Paste this code in the head of your HTML code. "
      ]
    },
    {
      "cell_type": "code",
      "metadata": {
        "id": "dxGmLQ4mpAbB"
      },
      "source": [
        "    <meta charset=\"utf-8\">\n",
        "    <meta name=\"viewport\" content=\"width=device-width, initial-scale=1, shrink-to-fit=no\">\n",
        "\n",
        "    <!-- Bootstrap CSS -->\n",
        "    <link rel=\"stylesheet\" href=\"https://stackpath.bootstrapcdn.com/bootstrap/4.4.1/css/bootstrap.min.css\" integrity=\"sha384-Vkoo8x4CGsO3+Hhxv8T/Q5PaXtkKtu6ug5TOeNV6gBiFeWPGFN9MuhOf23Q9Ifjh\" crossorigin=\"anonymous\">"
      ],
      "execution_count": null,
      "outputs": []
    },
    {
      "cell_type": "markdown",
      "metadata": {
        "id": "3VfCNKripIsW"
      },
      "source": [
        "**B)** Paste this code in the closing body tag"
      ]
    },
    {
      "cell_type": "code",
      "metadata": {
        "id": "x1z5nIappOFK"
      },
      "source": [
        "    <script src=\"https://code.jquery.com/jquery-3.4.1.slim.min.js\" integrity=\"sha384-J6qa4849blE2+poT4WnyKhv5vZF5SrPo0iEjwBvKU7imGFAV0wwj1yYfoRSJoZ+n\" crossorigin=\"anonymous\"></script>\n",
        "    <script src=\"https://cdn.jsdelivr.net/npm/popper.js@1.16.0/dist/umd/popper.min.js\" integrity=\"sha384-Q6E9RHvbIyZFJoft+2mJbHaEWldlvI9IOYy5n3zV9zzTtmI3UksdQRVvoxMfooAo\" crossorigin=\"anonymous\"></script>\n",
        "    <script src=\"https://stackpath.bootstrapcdn.com/bootstrap/4.4.1/js/bootstrap.min.js\" integrity=\"sha384-wfSDF2E50Y2D1uUdj0O3uMBJnjuUD4Ih7YwaYd1iqfktj0Uod8GCExl3Og8ifwB6\" crossorigin=\"anonymous\"></script>"
      ],
      "execution_count": null,
      "outputs": []
    }
  ]
}