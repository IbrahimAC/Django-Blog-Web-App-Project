{
  "nbformat": 4,
  "nbformat_minor": 0,
  "metadata": {
    "colab": {
      "name": "CIO_Project Lab 5",
      "provenance": []
    },
    "kernelspec": {
      "name": "python3",
      "display_name": "Python 3"
    },
    "language_info": {
      "name": "python"
    }
  },
  "cells": [
    {
      "cell_type": "markdown",
      "metadata": {
        "id": "EtRsYBV5xsrq"
      },
      "source": [
        "# Lab 5 "
      ]
    },
    {
      "cell_type": "markdown",
      "metadata": {
        "id": "zo0SiWgLx4u5"
      },
      "source": [
        "**Overview:**In this lab we will be looking to implement everything we have learnt so far by creating our very own web-page. The web-page you will create must have the minimum requirements: \n",
        "\n",
        "- A fully working front end containing unique content (Content different from one another and content that is not on any other page). \n",
        "- The web-page must be accessible from the homepage. (There must be a clickable link on the navigation bar that will take me to your web-page. Just writing the endpoint in the URL is not enough).  \n",
        "- A fully styled page using CSS. The page must have unique styling than the other pages. Change whatever you wish to make that happen. Use your brain as to how to make that happen, look at the documentation, and remember how to use the load static django code block.  \n",
        "- There must be some data that the web-page must show. You could do a address book page showing Street:  Postcode:  DoorNum:. (You may reference some previous code to get an dead as to how to do this). \n",
        "- A fully working backend with correct routing. (Applying all the theory correctly).  \n",
        "- You must be able to explain your web-page to me fully. Add comments if you need to. There should not be 1 line of code that you do not understand. This means if you need to ref the documentation do so. I dont really care if you literally read from the doc what it is. But you cannot say i dont know what this line does. \n",
        "- The webpage MUST BE DONE IN OUR SESSION. You may add to it further later on but these requirements must be met live in front of me. \n",
        "\n",
        "\n",
        "\n",
        "**Problem:** We want to know how well you can implement the theory you have learnt in the previous labs. \n",
        "\n",
        "**Solution:** Practice makes perfect. \n",
        "\n",
        "**Note:** You may use CSS HTML Django and Python documentation as you wish. Both your pages must be different from one another. That means only one can use the address book idea if you couldnt think of something. You may reference the current code but try to not to. Meaning, the code is infront of you and unavoidable to see, but if the theory is drilled in your head you should have a very good idea of what code needs to be added and where without having to look at the previous code we added. I will be watching throughout but will mostly be silent. If you have questions I will never answer them directly I will only answer them with another question. You may ask each other for help DURING THE SESSION if one of you is stuck. \n",
        "\n",
        "\n",
        "**IF YOU HAVE ANY QUESTIONS ABOUT THIS LAB ASK NOW.**"
      ]
    }
  ]
}