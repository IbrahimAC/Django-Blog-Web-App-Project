{
  "nbformat": 4,
  "nbformat_minor": 0,
  "metadata": {
    "colab": {
      "name": "CIO_Project Lab 8 ",
      "provenance": []
    },
    "kernelspec": {
      "name": "python3",
      "display_name": "Python 3"
    },
    "language_info": {
      "name": "python"
    }
  },
  "cells": [
    {
      "cell_type": "markdown",
      "metadata": {
        "id": "YgOiNhWGbjwl"
      },
      "source": [
        "# Lab 8 "
      ]
    },
    {
      "cell_type": "markdown",
      "metadata": {
        "id": "9WuxnAmBbveB"
      },
      "source": [
        "**Overview:** In this lab we will be correctly implimenting our register form. We will also be adding more register fields to collect more data about the user. \n",
        "\n",
        "**Problem:** Currently any data which is placed in our forms is routed back to our endpoint. This is not the implimentation we are looking for since we want our data to be saved into our data base for later quries. \n",
        "\n",
        "**Solution:** We will be using HTTP POST with Django  "
      ]
    },
    {
      "cell_type": "markdown",
      "metadata": {
        "id": "5q2k7gr1e8Uh"
      },
      "source": [
        "## Step 1: POST"
      ]
    },
    {
      "cell_type": "markdown",
      "metadata": {
        "id": "qpgPs16hfB-Y"
      },
      "source": [
        "**Overview:** Currently the data inputed in the forms fields are being directed back to our endpoint. To fix this we must use the HTTP POST method to tell django that we are looking to recieve data from the forms.  \n",
        "\n",
        "**A)** Inside the user/views.py file replace the following function with this code. "
      ]
    },
    {
      "cell_type": "code",
      "metadata": {
        "id": "jRR1Redyfr_O"
      },
      "source": [
        "def register(request):\n",
        "    if request.method == 'POST': # If the HTTP request is a POST request then...\n",
        "        form = UserRegisterForm(request.POST) # Create a form containing the data payload inside the POST request\n",
        "        if form.is_valid(): # Check if the data meets the forms requirments eg. Has this user been created previously? \n",
        "            username = form.cleaned_data.get('username') # If its valid take the username of the person who has summited it.\n",
        "            # The validated form will be stored in the cleaned_data dictionary  \n",
        "    else:\n",
        "        form = UserRegisterForm() \n",
        "    return render(request, 'users/register.html', {'form': form})"
      ],
      "execution_count": null,
      "outputs": []
    },
    {
      "cell_type": "markdown",
      "metadata": {
        "id": "-SRTzJUhgxMH"
      },
      "source": [
        "**B)** Have a look at this code and test it. Do you have any questions? There should be at least 1 regarding this codes functionality. \n"
      ]
    },
    {
      "cell_type": "markdown",
      "metadata": {
        "id": "nYcv9NNSkFjE"
      },
      "source": [
        "## Step 2: Flash Messages"
      ]
    },
    {
      "cell_type": "markdown",
      "metadata": {
        "id": "0Rz-is67kLd_"
      },
      "source": [
        "**A)** Now lets add a flash message that will tell the user if they have successfully created a user. Once again this is a built in functionality provided by django which we will need to import into our file. To do so type the follow in the imports section of the views.py file. "
      ]
    },
    {
      "cell_type": "code",
      "metadata": {
        "id": "PCCuRcsihsPj"
      },
      "source": [
        "from django.contrib import messages"
      ],
      "execution_count": null,
      "outputs": []
    },
    {
      "cell_type": "markdown",
      "metadata": {
        "id": "WBKyj-Tfh3Pg"
      },
      "source": [
        "**A)** There are many types of messages that this libary can provide including: \n",
        "\n",
        "\n",
        "*   message.debug \n",
        "* message.info\n",
        "* message.success\n",
        "* message.warning\n",
        "* message.error\n",
        "\n",
        "\n",
        "Since we want to tell the user they have successfully created a user we will be using message.success.\n",
        "\n",
        "**A)** Inside you form.is_valid() conditional type the following. "
      ]
    },
    {
      "cell_type": "code",
      "metadata": {
        "id": "lwdUncHVisIV"
      },
      "source": [
        "messages.success(request, f'Account created for {username}!')"
      ],
      "execution_count": null,
      "outputs": []
    },
    {
      "cell_type": "markdown",
      "metadata": {
        "id": "7gRuncPeg9Kc"
      },
      "source": [
        "**B)** Search what are f strings in python?\n",
        "\n",
        "**C)** Once the form is filled out we want to redirect them to another page. We woudnt want our user to be redirected back to the page which they just filled out since that would be confusing. Lets redirect them to the homepage instead. Lets implimenting this by adding the following to our views.py page. "
      ]
    },
    {
      "cell_type": "code",
      "metadata": {
        "id": "xqTkNpTbj3d3"
      },
      "source": [
        "from django.shortcuts import render, redirect\n",
        "\n",
        "return redirect('blog-home') # Where do you think is needs to go? "
      ],
      "execution_count": null,
      "outputs": []
    },
    {
      "cell_type": "markdown",
      "metadata": {
        "id": "FKuymKVmjdxX"
      },
      "source": [
        "**D)** Now we need to flash message to show up in our frontend. Lets impliment this now. Inside the base.html page insert the following above the content block django code block. "
      ]
    },
    {
      "cell_type": "code",
      "metadata": {
        "id": "zh_YTg7BkrLv"
      },
      "source": [
        "          {% if messages %}\n",
        "            {% for message in messages %}\n",
        "              <div class=\"alert alert-{{ message.tags }}\">\n",
        "                {{ message }}\n",
        "              </div>\n",
        "            {% endfor %}\n",
        "          {% endif %}\n",
        "          {% block content %}{% endblock %}"
      ],
      "execution_count": null,
      "outputs": []
    },
    {
      "cell_type": "markdown",
      "metadata": {
        "id": "O6NPCsSfk7FH"
      },
      "source": [
        "**D)** Go through this code. What do you think it does? \n",
        "\n",
        "**E)** Test it. "
      ]
    }
  ]
}